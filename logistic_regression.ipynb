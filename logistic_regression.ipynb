{
 "cells": [
  {
   "cell_type": "code",
   "execution_count": 268,
   "metadata": {},
   "outputs": [],
   "source": [
    "import pandas as pd\n",
    "import numpy as np\n",
    "import matplotlib.pyplot as plt\n",
    "from sklearn.datasets import make_classification\n",
    "from sklearn.linear_model import LogisticRegression"
   ]
  },
  {
   "cell_type": "markdown",
   "metadata": {},
   "source": [
    "## Create a dataset"
   ]
  },
  {
   "cell_type": "code",
   "execution_count": 269,
   "metadata": {},
   "outputs": [
    {
     "name": "stdout",
     "output_type": "stream",
     "text": [
      "[[-0.64185521  0.78535215]\n",
      " [ 0.10972634  1.83671408]\n",
      " [-1.07362634  2.591487  ]\n",
      " [-1.38222372  0.85340843]\n",
      " [ 1.78689446  2.3841826 ]\n",
      " [ 0.94785273  3.53015683]\n",
      " [ 1.08876018  1.35925144]\n",
      " [ 0.42774158  3.54015499]\n",
      " [-0.88398194 -0.57876171]\n",
      " [-1.59347411  1.2168913 ]]\n",
      "[1 0 1 1 0 0 0 0 1 1]\n"
     ]
    }
   ],
   "source": [
    "X, y = make_classification(\n",
    "        n_samples=10, \n",
    "        n_features=2,\n",
    "        n_redundant=0,\n",
    "        n_informative=2,\n",
    "        random_state=1, \n",
    "        n_clusters_per_class=1)\n",
    "print(X)\n",
    "print(y)"
   ]
  },
  {
   "cell_type": "code",
   "execution_count": 270,
   "metadata": {},
   "outputs": [
    {
     "data": {
      "text/plain": [
       "Text(0, 0.5, 'x2')"
      ]
     },
     "execution_count": 270,
     "metadata": {},
     "output_type": "execute_result"
    },
    {
     "data": {
      "image/png": "[encoded data removed]",
      "text/plain": [
       "<Figure size 640x480 with 1 Axes>"
      ]
     },
     "metadata": {},
     "output_type": "display_data"
    }
   ],
   "source": [
    "plt.scatter(X[:,0],X[:,1])\n",
    "plt.xlabel(\"x1\")\n",
    "plt.ylabel(\"x2\")"
   ]
  },
  {
   "cell_type": "code",
   "execution_count": 271,
   "metadata": {},
   "outputs": [
    {
     "name": "stdout",
     "output_type": "stream",
     "text": [
      "[[ 1.         -0.64185521  0.78535215]\n",
      " [ 1.          0.10972634  1.83671408]\n",
      " [ 1.         -1.07362634  2.591487  ]\n",
      " [ 1.         -1.38222372  0.85340843]\n",
      " [ 1.          1.78689446  2.3841826 ]\n",
      " [ 1.          0.94785273  3.53015683]\n",
      " [ 1.          1.08876018  1.35925144]\n",
      " [ 1.          0.42774158  3.54015499]\n",
      " [ 1.         -0.88398194 -0.57876171]\n",
      " [ 1.         -1.59347411  1.2168913 ]]\n"
     ]
    }
   ],
   "source": [
    "X= np.c_[np.ones((X.shape[0],1)),X]\n",
    "print(X)\n",
    "d = X.shape[1]\n"
   ]
  },
  {
   "cell_type": "markdown",
   "metadata": {},
   "source": [
    "## Logistic regression\n"
   ]
  },
  {
   "cell_type": "markdown",
   "metadata": {},
   "source": [
    "Logistic regression models the probability that an observation belongs to a particular category.To generate these probabilities, logistic regression uses the sigmoid function. This function maps a real number to a values between 0 and 1."
   ]
  },
  {
   "cell_type": "markdown",
   "metadata": {},
   "source": [
    "\n",
    "$$\\sigma(z) = \\frac 1 {(1+ e^{-z})} $$"
   ]
  },
  {
   "cell_type": "code",
   "execution_count": 272,
   "metadata": {},
   "outputs": [],
   "source": [
    "def sigmoid(z):\n",
    "    return 1/(1+np.exp(-z))"
   ]
  },
  {
   "cell_type": "code",
   "execution_count": 273,
   "metadata": {},
   "outputs": [
    {
     "name": "stdout",
     "output_type": "stream",
     "text": [
      "[[1.76405235]\n",
      " [0.40015721]\n",
      " [0.97873798]]\n"
     ]
    },
    {
     "data": {
      "text/plain": [
       "(3, 1)"
      ]
     },
     "execution_count": 273,
     "metadata": {},
     "output_type": "execute_result"
    }
   ],
   "source": [
    "def initialize_thetas(d):\n",
    "    np.random.seed(0)\n",
    "    thetas = np.random.randn(d,1)\n",
    "    return thetas\n",
    "\n",
    "thetas = initialize_thetas(d)\n",
    "print(thetas)\n",
    "# thetas = np.zeros(X.shape[1])\n",
    "thetas.shape\n",
    " "
   ]
  },
  {
   "cell_type": "code",
   "execution_count": 274,
   "metadata": {},
   "outputs": [],
   "source": [
    "#calculate the hypothesis\n",
    "def calc_h(X,thetas):\n",
    "    z = np.dot(X,thetas) #linear combination of inputs and weights\n",
    "    h = sigmoid(z)\n",
    "    return h\n",
    "h = calc_h(X,thetas)"
   ]
  },
  {
   "cell_type": "code",
   "execution_count": 275,
   "metadata": {},
   "outputs": [
    {
     "name": "stdout",
     "output_type": "stream",
     "text": [
      "x= [[ 1.         -0.64185521  0.78535215]\n",
      " [ 1.          0.10972634  1.83671408]\n",
      " [ 1.         -1.07362634  2.591487  ]\n",
      " [ 1.         -1.38222372  0.85340843]\n",
      " [ 1.          1.78689446  2.3841826 ]\n",
      " [ 1.          0.94785273  3.53015683]\n",
      " [ 1.          1.08876018  1.35925144]\n",
      " [ 1.          0.42774158  3.54015499]\n",
      " [ 1.         -0.88398194 -0.57876171]\n",
      " [ 1.         -1.59347411  1.2168913 ]]\n",
      "thetas= [[1.76405235]\n",
      " [0.40015721]\n",
      " [0.97873798]]\n",
      "h= [[0.90685823]\n",
      " [0.97354817]\n",
      " [0.97958421]\n",
      " [0.88556398]\n",
      " [0.99193866]\n",
      " [0.99631003]\n",
      " [0.97153159]\n",
      " [0.99550418]\n",
      " [0.6992785 ]\n",
      " [0.91031033]]\n"
     ]
    }
   ],
   "source": [
    "print(\"x=\",X)\n",
    "print(\"thetas=\",thetas)\n",
    "print(\"h=\",h)"
   ]
  },
  {
   "cell_type": "markdown",
   "metadata": {},
   "source": [
    "## Loss function"
   ]
  },
  {
   "cell_type": "markdown",
   "metadata": {},
   "source": [
    "The loss function of logistic regression is defined as follows,"
   ]
  },
  {
   "cell_type": "markdown",
   "metadata": {},
   "source": [
    "\\begin{align*}\n",
    "\\mathcal{J}(w) &= - \\frac{1}{m} \\sum_{i=1}^m y_i \\log(h_w(x_i)) + (1-y_i) \\log(1-h_w(x_i)) \\\\\n",
    "\\end{align*}\n"
   ]
  },
  {
   "cell_type": "code",
   "execution_count": 276,
   "metadata": {},
   "outputs": [
    {
     "data": {
      "text/plain": [
       "17.914093674055604"
      ]
     },
     "execution_count": 276,
     "metadata": {},
     "output_type": "execute_result"
    }
   ],
   "source": [
    "def calculate_cost(X, y,h,thetas):\n",
    "    m = len(X)\n",
    "    h = calc_h(X, thetas)\n",
    "    cost = (1 / m) * np.sum((-y * np.log(h) - (1 - y) * np.log(1 - h)))\n",
    "    return cost\n",
    "\n",
    "cost = calculate_cost(X,y,h,thetas)\n",
    "cost"
   ]
  },
  {
   "cell_type": "markdown",
   "metadata": {},
   "source": [
    "## Gradient descent"
   ]
  },
  {
   "cell_type": "markdown",
   "metadata": {},
   "source": [
    "In order to get an accurate prediction, we need to minimise the loss function .This is done by fitting the coefficients.This is done by computing the derivative of the loss function with respect to each coefficient "
   ]
  },
  {
   "cell_type": "markdown",
   "metadata": {},
   "source": [
    "$$ \n",
    " w_{j+1} = w_j - \\alpha \\frac{\\partial \\mathcal{J}(w)}{\\partial w_j} \n",
    "$$"
   ]
  },
  {
   "cell_type": "code",
   "execution_count": 277,
   "metadata": {},
   "outputs": [
    {
     "data": {
      "text/plain": [
       "array([[0.43104279],\n",
       "       [0.49558814],\n",
       "       [1.23562045]])"
      ]
     },
     "execution_count": 277,
     "metadata": {},
     "output_type": "execute_result"
    }
   ],
   "source": [
    "def cal_gradient(X,y,h):\n",
    "    m = len(X)\n",
    "    gradient = np.dot(X.T, (h - y.reshape(-1,1))) / m\n",
    "    return gradient\n",
    "\n",
    "gradient = cal_gradient(X,y,h)\n",
    "gradient"
   ]
  },
  {
   "cell_type": "code",
   "execution_count": 245,
   "metadata": {},
   "outputs": [
    {
     "data": {
      "text/plain": [
       "array([[1.7636213 ],\n",
       "       [0.39966162],\n",
       "       [0.97750236]])"
      ]
     },
     "execution_count": 245,
     "metadata": {},
     "output_type": "execute_result"
    }
   ],
   "source": [
    "def update_thetas(thetas,gradient):\n",
    "    alpha = 0.001\n",
    "    thetas = thetas - (alpha * gradient)  # Update thetas\n",
    "    return thetas\n",
    "\n",
    "thetas = update_thetas(thetas,gradient)\n",
    "thetas"
   ]
  },
  {
   "cell_type": "markdown",
   "metadata": {},
   "source": [
    "## Training the model"
   ]
  },
  {
   "cell_type": "markdown",
   "metadata": {},
   "source": [
    "repeat these steps in order to fit the coefficients"
   ]
  },
  {
   "cell_type": "code",
   "execution_count": 278,
   "metadata": {},
   "outputs": [],
   "source": [
    "def gradient_descent(X,y,max_iters=10000,precision=1e-3,alpha=0.01):\n",
    "    thetas = initialize_thetas(d)\n",
    "    costs = []\n",
    "    difference = 1\n",
    "    iteration = 0\n",
    "\n",
    "    while difference > precision and iteration < max_iters:\n",
    "        h = calc_h(X, thetas)\n",
    "        cost = calculate_cost(X, y,h,thetas)\n",
    "        costs.append(cost)\n",
    "        \n",
    "        gradient = cal_gradient(X, y, h)\n",
    "        thetas = thetas - (alpha * gradient)\n",
    "        \n",
    "        if iteration > 0:\n",
    "            difference = np.abs(costs[iteration - 1] - cost)\n",
    "        \n",
    "        print(f\"Iteration: {iteration}, Cost: {cost}\")\n",
    "        iteration += 1\n",
    "        \n",
    "        if cost == np.inf:\n",
    "            print(\"Reached limit\")\n",
    "            break\n",
    "\n",
    "    return thetas,iteration,costs"
   ]
  },
  {
   "cell_type": "code",
   "execution_count": 247,
   "metadata": {},
   "outputs": [
    {
     "name": "stdout",
     "output_type": "stream",
     "text": [
      "Iteration: 0, Cost: 17.914093674055604\n",
      "Iteration: 1, Cost: 17.791043707618865\n",
      "Iteration: 2, Cost: 17.66822913879078\n",
      "Iteration: 3, Cost: 17.54565573574277\n",
      "Iteration: 4, Cost: 17.42332944633613\n",
      "Iteration: 5, Cost: 17.301256403639453\n",
      "Iteration: 6, Cost: 17.17944293156304\n",
      "Iteration: 7, Cost: 17.057895550607462\n",
      "Iteration: 8, Cost: 16.936620983721546\n",
      "Iteration: 9, Cost: 16.815626162265385\n",
      "Iteration: 10, Cost: 16.69491823207228\n",
      "Iteration: 11, Cost: 16.574504559603\n",
      "Iteration: 12, Cost: 16.45439273818473\n",
      "Iteration: 13, Cost: 16.33459059432526\n",
      "Iteration: 14, Cost: 16.21510619409286\n",
      "Iteration: 15, Cost: 16.09594784955006\n",
      "Iteration: 16, Cost: 15.977124125228276\n",
      "Iteration: 17, Cost: 15.8586438446292\n",
      "Iteration: 18, Cost: 15.740516096736606\n",
      "Iteration: 19, Cost: 15.622750242520684\n",
      "Iteration: 20, Cost: 15.50535592141556\n",
      "Iteration: 21, Cost: 15.388343057747807\n",
      "Iteration: 22, Cost: 15.27172186709249\n",
      "Iteration: 23, Cost: 15.155502862530657\n",
      "Iteration: 24, Cost: 15.039696860779708\n",
      "Iteration: 25, Cost: 14.924314988165992\n",
      "Iteration: 26, Cost: 14.809368686406124\n",
      "Iteration: 27, Cost: 14.694869718160778\n",
      "Iteration: 28, Cost: 14.580830172322194\n",
      "Iteration: 29, Cost: 14.46726246899338\n",
      "Iteration: 30, Cost: 14.354179364114282\n",
      "Iteration: 31, Cost: 14.24159395368692\n",
      "Iteration: 32, Cost: 14.129519677548547\n",
      "Iteration: 33, Cost: 14.017970322638611\n",
      "Iteration: 34, Cost: 13.90696002570208\n",
      "Iteration: 35, Cost: 13.796503275368645\n",
      "Iteration: 36, Cost: 13.68661491354419\n",
      "Iteration: 37, Cost: 13.577310136047613\n",
      "Iteration: 38, Cost: 13.468604492423498\n",
      "Iteration: 39, Cost: 13.360513884858108\n",
      "Iteration: 40, Cost: 13.253054566123602\n",
      "Iteration: 41, Cost: 13.146243136473174\n",
      "Iteration: 42, Cost: 13.040096539407708\n",
      "Iteration: 43, Cost: 12.934632056232969\n",
      "Iteration: 44, Cost: 12.829867299325045\n",
      "Iteration: 45, Cost: 12.725820204021364\n",
      "Iteration: 46, Cost: 12.622509019054128\n",
      "Iteration: 47, Cost: 12.519952295444092\n",
      "Iteration: 48, Cost: 12.418168873773514\n",
      "Iteration: 49, Cost: 12.317177869759705\n",
      "Iteration: 50, Cost: 12.216998658053363\n",
      "Iteration: 51, Cost: 12.117650854190309\n",
      "Iteration: 52, Cost: 12.019154294630196\n",
      "Iteration: 53, Cost: 11.92152901482234\n",
      "Iteration: 54, Cost: 11.824795225246184\n",
      "Iteration: 55, Cost: 11.728973285382976\n",
      "Iteration: 56, Cost: 11.63408367558532\n",
      "Iteration: 57, Cost: 11.5401469668229\n",
      "Iteration: 58, Cost: 11.447183788295538\n",
      "Iteration: 59, Cost: 11.355214792919213\n",
      "Iteration: 60, Cost: 11.264260620706253\n",
      "Iteration: 61, Cost: 11.174341860077963\n",
      "Iteration: 62, Cost: 11.085479007166185\n",
      "Iteration: 63, Cost: 10.997692423179704\n",
      "Iteration: 64, Cost: 10.911002289931629\n",
      "Iteration: 65, Cost: 10.825428563645312\n",
      "Iteration: 66, Cost: 10.740990927177933\n",
      "Iteration: 67, Cost: 10.657708740823272\n",
      "Iteration: 68, Cost: 10.575600991877494\n",
      "Iteration: 69, Cost: 10.49468624317382\n",
      "Iteration: 70, Cost: 10.4149825808139\n",
      "Iteration: 71, Cost: 10.336507561344279\n",
      "Iteration: 72, Cost: 10.259278158646282\n",
      "Iteration: 73, Cost: 10.183310710825516\n",
      "Iteration: 74, Cost: 10.10862086740353\n",
      "Iteration: 75, Cost: 10.035223537127948\n",
      "Iteration: 76, Cost: 9.963132836728494\n",
      "Iteration: 77, Cost: 9.892362040954652\n",
      "Iteration: 78, Cost: 9.822923534235294\n",
      "Iteration: 79, Cost: 9.754828764302053\n",
      "Iteration: 80, Cost: 9.688088198115432\n",
      "Iteration: 81, Cost: 9.6227112804262\n",
      "Iteration: 82, Cost: 9.55870639529381\n",
      "Iteration: 83, Cost: 9.496080830868967\n",
      "Iteration: 84, Cost: 9.434840747728453\n",
      "Iteration: 85, Cost: 9.374991151027718\n",
      "Iteration: 86, Cost: 9.316535866710101\n",
      "Iteration: 87, Cost: 9.259477521981763\n",
      "Iteration: 88, Cost: 9.203817530228294\n",
      "Iteration: 89, Cost: 9.149556080513292\n",
      "Iteration: 90, Cost: 9.096692131761564\n",
      "Iteration: 91, Cost: 9.045223411689935\n",
      "Iteration: 92, Cost: 8.99514642050831\n",
      "Iteration: 93, Cost: 8.946456439372692\n",
      "Iteration: 94, Cost: 8.899147543531098\n",
      "Iteration: 95, Cost: 8.853212620063301\n",
      "Iteration: 96, Cost: 8.808643390076872\n",
      "Iteration: 97, Cost: 8.765430435185223\n",
      "Iteration: 98, Cost: 8.723563228059234\n",
      "Iteration: 99, Cost: 8.683030166812864\n",
      "Iteration: 100, Cost: 8.643818612955206\n",
      "Iteration: 101, Cost: 8.605914932617157\n",
      "Iteration: 102, Cost: 8.569304540740708\n",
      "Iteration: 103, Cost: 8.533971947902577\n",
      "Iteration: 104, Cost: 8.499900809431862\n",
      "Iteration: 105, Cost: 8.467073976473694\n",
      "Iteration: 106, Cost: 8.43547354864708\n",
      "Iteration: 107, Cost: 8.405080927945576\n",
      "Iteration: 108, Cost: 8.375876873533489\n",
      "Iteration: 109, Cost: 8.347841557098064\n",
      "Iteration: 110, Cost: 8.320954618429042\n",
      "Iteration: 111, Cost: 8.295195220910855\n",
      "Iteration: 112, Cost: 8.270542106629012\n",
      "Iteration: 113, Cost: 8.246973650811034\n",
      "Iteration: 114, Cost: 8.224467915342354\n",
      "Iteration: 115, Cost: 8.203002701119425\n",
      "Iteration: 116, Cost: 8.182555599024957\n",
      "Iteration: 117, Cost: 8.163104039333476\n",
      "Iteration: 118, Cost: 8.144625339378914\n",
      "Iteration: 119, Cost: 8.127096749339486\n",
      "Iteration: 120, Cost: 8.110495496018297\n",
      "Iteration: 121, Cost: 8.094798824520538\n",
      "Iteration: 122, Cost: 8.07998403774997\n",
      "Iteration: 123, Cost: 8.066028533668016\n",
      "Iteration: 124, Cost: 8.052909840278287\n",
      "Iteration: 125, Cost: 8.040605648317596\n",
      "Iteration: 126, Cost: 8.029093841651235\n",
      "Iteration: 127, Cost: 8.018352525385836\n",
      "Iteration: 128, Cost: 8.008360051726783\n",
      "Iteration: 129, Cost: 7.999095043619639\n",
      "Iteration: 130, Cost: 7.9905364162260115\n",
      "Iteration: 131, Cost: 7.982663396293529\n",
      "Iteration: 132, Cost: 7.975455539487976\n",
      "Iteration: 133, Cost: 7.968892745761955\n",
      "Iteration: 134, Cost: 7.96295527284033\n",
      "Iteration: 135, Cost: 7.957623747906649\n",
      "Iteration: 136, Cost: 7.9528791775781675\n",
      "Iteration: 137, Cost: 7.948702956259104\n",
      "Iteration: 138, Cost: 7.945076872963185\n",
      "Iteration: 139, Cost: 7.941983116696879\n",
      "Iteration: 140, Cost: 7.939404280494468\n",
      "Iteration: 141, Cost: 7.937323364195217\n",
      "Iteration: 142, Cost: 7.935723776051342\n",
      "Iteration: 143, Cost: 7.934589333253566\n",
      "Iteration: 144, Cost: 7.933904261458678\n"
     ]
    }
   ],
   "source": [
    "thetas, iteration,costs = gradient_descent(X,y)"
   ]
  },
  {
   "cell_type": "markdown",
   "metadata": {},
   "source": [
    "## plot the loss function"
   ]
  },
  {
   "cell_type": "code",
   "execution_count": 279,
   "metadata": {},
   "outputs": [
    {
     "data": {
      "image/png": "[encoded data removed]",
      "text/plain": [
       "<Figure size 640x480 with 1 Axes>"
      ]
     },
     "metadata": {},
     "output_type": "display_data"
    }
   ],
   "source": [
    "plt.plot(costs)\n",
    "plt.xlabel(\"no of iteration\")\n",
    "plt.ylabel(\"cost\")\n",
    "\n",
    "plt.show()"
   ]
  },
  {
   "cell_type": "markdown",
   "metadata": {},
   "source": [
    "## Making predictions"
   ]
  },
  {
   "cell_type": "code",
   "execution_count": 280,
   "metadata": {},
   "outputs": [
    {
     "data": {
      "text/plain": [
       "array([[0.90685823],\n",
       "       [0.97354817],\n",
       "       [0.97958421],\n",
       "       [0.88556398],\n",
       "       [0.99193866],\n",
       "       [0.99631003],\n",
       "       [0.97153159],\n",
       "       [0.99550418],\n",
       "       [0.6992785 ],\n",
       "       [0.91031033]])"
      ]
     },
     "execution_count": 280,
     "metadata": {},
     "output_type": "execute_result"
    }
   ],
   "source": [
    "pred_prob = calc_h(X,thetas)\n",
    "pred_prob"
   ]
  },
  {
   "cell_type": "code",
   "execution_count": 281,
   "metadata": {},
   "outputs": [
    {
     "name": "stdout",
     "output_type": "stream",
     "text": [
      "Predicted Class Labels:\n",
      " [[1]\n",
      " [1]\n",
      " [1]\n",
      " [1]\n",
      " [1]\n",
      " [1]\n",
      " [1]\n",
      " [1]\n",
      " [1]\n",
      " [1]]\n"
     ]
    }
   ],
   "source": [
    "threshold = 0.5\n",
    "predictions = (pred_prob >= threshold).astype(int)\n",
    "print(\"Predicted Class Labels:\\n\", predictions)"
   ]
  },
  {
   "cell_type": "code",
   "execution_count": 287,
   "metadata": {},
   "outputs": [
    {
     "name": "stdout",
     "output_type": "stream",
     "text": [
      "[[1.   0.15 0.65]\n",
      " [1.   0.25 0.75]\n",
      " [1.   0.35 0.85]]\n",
      "predicted output for the new observation:  [[0.9213082 ]\n",
      " [0.93074211]\n",
      " [0.93911978]]\n"
     ]
    }
   ],
   "source": [
    "new_x = np.array([[0.15, 0.65], [0.25, 0.75], [0.35, 0.85]])  \n",
    "new_x = np.c_[np.ones((new_x.shape[0], 1)), new_x]\n",
    "print(new_x)\n",
    "preds_prob_new_x = calc_h(new_x, thetas)\n",
    "print(\"predicted output for the new observation: \", preds_prob_new_x)"
   ]
  }
 ],
 "metadata": {
  "kernelspec": {
   "display_name": "ml",
   "language": "python",
   "name": "python3"
  },
  "language_info": {
   "codemirror_mode": {
    "name": "ipython",
    "version": 3
   },
   "file_extension": ".py",
   "mimetype": "text/x-python",
   "name": "python",
   "nbconvert_exporter": "python",
   "pygments_lexer": "ipython3",
   "version": "3.10.13"
  }
 },
 "nbformat": 4,
 "nbformat_minor": 2
}
